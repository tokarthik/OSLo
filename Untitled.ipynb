{
 "cells": [
  {
   "cell_type": "code",
   "execution_count": 1,
   "metadata": {},
   "outputs": [
    {
     "name": "stdout",
     "output_type": "stream",
     "text": [
      "hello!!!!\n"
     ]
    }
   ],
   "source": [
    "print \"hello!!!!\""
   ]
  },
  {
   "cell_type": "code",
   "execution_count": 2,
   "metadata": {},
   "outputs": [
    {
     "name": "stdout",
     "output_type": "stream",
     "text": [
      "hello!!!!\n"
     ]
    }
   ],
   "source": [
    "print \"hello!!!!\""
   ]
  },
  {
   "cell_type": "code",
   "execution_count": 5,
   "metadata": {},
   "outputs": [
    {
     "name": "stdout",
     "output_type": "stream",
     "text": [
      "0th iteration\n",
      "1th iteration\n",
      "2th iteration\n",
      "3th iteration\n",
      "4th iteration\n",
      "5th iteration\n",
      "6th iteration\n",
      "7th iteration\n",
      "8th iteration\n",
      "9th iteration\n",
      "10th iteration\n",
      "11th iteration\n",
      "12th iteration\n",
      "13th iteration\n",
      "14th iteration\n",
      "15th iteration\n",
      "16th iteration\n",
      "17th iteration\n",
      "18th iteration\n",
      "19th iteration\n",
      "20th iteration\n",
      "21th iteration\n",
      "22th iteration\n",
      "23th iteration\n",
      "24th iteration\n",
      "25th iteration\n",
      "26th iteration\n",
      "27th iteration\n",
      "28th iteration\n",
      "29th iteration\n",
      "30th iteration\n",
      "31th iteration\n",
      "32th iteration\n",
      "33th iteration\n",
      "34th iteration\n",
      "35th iteration\n",
      "36th iteration\n",
      "37th iteration\n",
      "38th iteration\n",
      "39th iteration\n",
      "40th iteration\n",
      "41th iteration\n",
      "42th iteration\n",
      "43th iteration\n",
      "44th iteration\n",
      "45th iteration\n",
      "46th iteration\n",
      "47th iteration\n",
      "48th iteration\n",
      "49th iteration\n",
      "50th iteration\n",
      "51th iteration\n",
      "52th iteration\n",
      "53th iteration\n",
      "54th iteration\n",
      "55th iteration\n",
      "56th iteration\n",
      "57th iteration\n",
      "58th iteration\n",
      "59th iteration\n",
      "60th iteration\n",
      "61th iteration\n",
      "62th iteration\n",
      "63th iteration\n",
      "64th iteration\n",
      "65th iteration\n",
      "66th iteration\n",
      "67th iteration\n",
      "68th iteration\n",
      "69th iteration\n",
      "70th iteration\n",
      "71th iteration\n",
      "72th iteration\n",
      "73th iteration\n",
      "74th iteration\n",
      "75th iteration\n",
      "76th iteration\n",
      "77th iteration\n",
      "78th iteration\n",
      "79th iteration\n",
      "80th iteration\n",
      "81th iteration\n",
      "82th iteration\n",
      "83th iteration\n",
      "84th iteration\n",
      "85th iteration\n",
      "86th iteration\n",
      "87th iteration\n",
      "88th iteration\n",
      "89th iteration\n",
      "90th iteration\n",
      "91th iteration\n",
      "92th iteration\n",
      "93th iteration\n",
      "94th iteration\n",
      "95th iteration\n",
      "96th iteration\n",
      "97th iteration\n",
      "98th iteration\n",
      "99th iteration\n"
     ]
    }
   ],
   "source": [
    "for i in range(100):\n",
    "    print str(i) + \"th iteration\" "
   ]
  },
  {
   "cell_type": "code",
   "execution_count": 7,
   "metadata": {},
   "outputs": [
    {
     "data": {
      "text/plain": [
       "[50,\n",
       " 51,\n",
       " 52,\n",
       " 53,\n",
       " 54,\n",
       " 55,\n",
       " 56,\n",
       " 57,\n",
       " 58,\n",
       " 59,\n",
       " 60,\n",
       " 61,\n",
       " 62,\n",
       " 63,\n",
       " 64,\n",
       " 65,\n",
       " 66,\n",
       " 67,\n",
       " 68,\n",
       " 69,\n",
       " 70,\n",
       " 71,\n",
       " 72,\n",
       " 73,\n",
       " 74,\n",
       " 75,\n",
       " 76,\n",
       " 77,\n",
       " 78,\n",
       " 79,\n",
       " 80,\n",
       " 81,\n",
       " 82,\n",
       " 83,\n",
       " 84,\n",
       " 85,\n",
       " 86,\n",
       " 87,\n",
       " 88,\n",
       " 89,\n",
       " 90,\n",
       " 91,\n",
       " 92,\n",
       " 93,\n",
       " 94,\n",
       " 95,\n",
       " 96,\n",
       " 97,\n",
       " 98,\n",
       " 99]"
      ]
     },
     "execution_count": 7,
     "metadata": {},
     "output_type": "execute_result"
    }
   ],
   "source": [
    "range(100)"
   ]
  },
  {
   "cell_type": "code",
   "execution_count": null,
   "metadata": {
    "collapsed": true
   },
   "outputs": [],
   "source": []
  }
 ],
 "metadata": {
  "kernelspec": {
   "display_name": "Python 2",
   "language": "python",
   "name": "python2"
  },
  "language_info": {
   "codemirror_mode": {
    "name": "ipython",
    "version": 2
   },
   "file_extension": ".py",
   "mimetype": "text/x-python",
   "name": "python",
   "nbconvert_exporter": "python",
   "pygments_lexer": "ipython2",
   "version": "2.7.13"
  }
 },
 "nbformat": 4,
 "nbformat_minor": 2
}
